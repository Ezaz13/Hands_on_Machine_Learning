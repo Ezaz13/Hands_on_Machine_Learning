{
 "cells": [
  {
   "cell_type": "code",
   "id": "initial_id",
   "metadata": {
    "collapsed": true,
    "ExecuteTime": {
     "end_time": "2025-04-19T06:18:00.248379Z",
     "start_time": "2025-04-19T06:17:59.910363Z"
    }
   },
   "source": [
    "import numpy as np\n",
    "import seaborn as sns\n",
    "\n",
    "np.random.seed(42)  # to make this code example reproducible\n",
    "m = 100  # number of instances\n",
    "X = 2 * np.random.rand(m, 1)  # column vector\n",
    "y = 4 + 3 * X + np.random.randn(m, 1)  # column vector\n",
    "\n",
    "sns.scatterplot(x=X.ravel(), y=y.ravel())"
   ],
   "outputs": [
    {
     "data": {
      "text/plain": [
       "<Axes: >"
      ]
     },
     "execution_count": 1,
     "metadata": {},
     "output_type": "execute_result"
    },
    {
     "data": {
      "text/plain": [
       "<Figure size 640x480 with 1 Axes>"
      ],
      "image/png": "[encoded data removed]"
     },
     "metadata": {},
     "output_type": "display_data"
    }
   ],
   "execution_count": 1
  },
  {
   "metadata": {},
   "cell_type": "markdown",
   "source": "# Normal Equation Approach",
   "id": "dedbab73d5176e6f"
  },
  {
   "metadata": {
    "ExecuteTime": {
     "end_time": "2025-04-19T06:18:00.784839Z",
     "start_time": "2025-04-19T06:18:00.306306Z"
    }
   },
   "cell_type": "code",
   "source": [
    "from sklearn.preprocessing import add_dummy_feature\n",
    "\n",
    "X_b = add_dummy_feature(X)  # add x0 = 1 to each instance\n",
    "theta_best = np.linalg.inv(X_b.T @ X_b) @ X_b.T @ y\n",
    "theta_best"
   ],
   "id": "85d29fa7ebba0285",
   "outputs": [
    {
     "data": {
      "text/plain": [
       "array([[4.21509616],\n",
       "       [2.77011339]])"
      ]
     },
     "execution_count": 2,
     "metadata": {},
     "output_type": "execute_result"
    }
   ],
   "execution_count": 2
  },
  {
   "metadata": {
    "ExecuteTime": {
     "end_time": "2025-04-19T06:18:01.341843Z",
     "start_time": "2025-04-19T06:18:01.334519Z"
    }
   },
   "cell_type": "code",
   "source": "X_b",
   "id": "7d1af6db8722e133",
   "outputs": [
    {
     "data": {
      "text/plain": [
       "array([[1.        , 0.74908024],\n",
       "       [1.        , 1.90142861],\n",
       "       [1.        , 1.46398788],\n",
       "       [1.        , 1.19731697],\n",
       "       [1.        , 0.31203728],\n",
       "       [1.        , 0.31198904],\n",
       "       [1.        , 0.11616722],\n",
       "       [1.        , 1.73235229],\n",
       "       [1.        , 1.20223002],\n",
       "       [1.        , 1.41614516],\n",
       "       [1.        , 0.04116899],\n",
       "       [1.        , 1.9398197 ],\n",
       "       [1.        , 1.66488528],\n",
       "       [1.        , 0.42467822],\n",
       "       [1.        , 0.36364993],\n",
       "       [1.        , 0.36680902],\n",
       "       [1.        , 0.60848449],\n",
       "       [1.        , 1.04951286],\n",
       "       [1.        , 0.86389004],\n",
       "       [1.        , 0.58245828],\n",
       "       [1.        , 1.22370579],\n",
       "       [1.        , 0.27898772],\n",
       "       [1.        , 0.5842893 ],\n",
       "       [1.        , 0.73272369],\n",
       "       [1.        , 0.91213997],\n",
       "       [1.        , 1.57035192],\n",
       "       [1.        , 0.39934756],\n",
       "       [1.        , 1.02846888],\n",
       "       [1.        , 1.18482914],\n",
       "       [1.        , 0.09290083],\n",
       "       [1.        , 1.2150897 ],\n",
       "       [1.        , 0.34104825],\n",
       "       [1.        , 0.13010319],\n",
       "       [1.        , 1.89777107],\n",
       "       [1.        , 1.93126407],\n",
       "       [1.        , 1.6167947 ],\n",
       "       [1.        , 0.60922754],\n",
       "       [1.        , 0.19534423],\n",
       "       [1.        , 1.36846605],\n",
       "       [1.        , 0.88030499],\n",
       "       [1.        , 0.24407647],\n",
       "       [1.        , 0.99035382],\n",
       "       [1.        , 0.06877704],\n",
       "       [1.        , 1.8186408 ],\n",
       "       [1.        , 0.51755996],\n",
       "       [1.        , 1.32504457],\n",
       "       [1.        , 0.62342215],\n",
       "       [1.        , 1.04013604],\n",
       "       [1.        , 1.09342056],\n",
       "       [1.        , 0.36970891],\n",
       "       [1.        , 1.93916926],\n",
       "       [1.        , 1.55026565],\n",
       "       [1.        , 1.87899788],\n",
       "       [1.        , 1.7896547 ],\n",
       "       [1.        , 1.19579996],\n",
       "       [1.        , 1.84374847],\n",
       "       [1.        , 0.176985  ],\n",
       "       [1.        , 0.39196572],\n",
       "       [1.        , 0.09045458],\n",
       "       [1.        , 0.65066066],\n",
       "       [1.        , 0.77735458],\n",
       "       [1.        , 0.54269806],\n",
       "       [1.        , 1.65747502],\n",
       "       [1.        , 0.71350665],\n",
       "       [1.        , 0.56186902],\n",
       "       [1.        , 1.08539217],\n",
       "       [1.        , 0.28184845],\n",
       "       [1.        , 1.60439396],\n",
       "       [1.        , 0.14910129],\n",
       "       [1.        , 1.97377387],\n",
       "       [1.        , 1.54448954],\n",
       "       [1.        , 0.39743136],\n",
       "       [1.        , 0.01104423],\n",
       "       [1.        , 1.63092286],\n",
       "       [1.        , 1.41371469],\n",
       "       [1.        , 1.45801434],\n",
       "       [1.        , 1.54254069],\n",
       "       [1.        , 0.1480893 ],\n",
       "       [1.        , 0.71693146],\n",
       "       [1.        , 0.23173812],\n",
       "       [1.        , 1.72620685],\n",
       "       [1.        , 1.24659625],\n",
       "       [1.        , 0.66179605],\n",
       "       [1.        , 0.1271167 ],\n",
       "       [1.        , 0.62196464],\n",
       "       [1.        , 0.65036664],\n",
       "       [1.        , 1.45921236],\n",
       "       [1.        , 1.27511494],\n",
       "       [1.        , 1.77442549],\n",
       "       [1.        , 0.94442985],\n",
       "       [1.        , 0.23918849],\n",
       "       [1.        , 1.42648957],\n",
       "       [1.        , 1.5215701 ],\n",
       "       [1.        , 1.1225544 ],\n",
       "       [1.        , 1.54193436],\n",
       "       [1.        , 0.98759119],\n",
       "       [1.        , 1.04546566],\n",
       "       [1.        , 0.85508204],\n",
       "       [1.        , 0.05083825],\n",
       "       [1.        , 0.21578285]])"
      ]
     },
     "execution_count": 3,
     "metadata": {},
     "output_type": "execute_result"
    }
   ],
   "execution_count": 3
  },
  {
   "metadata": {
    "ExecuteTime": {
     "end_time": "2025-04-19T06:18:01.500162Z",
     "start_time": "2025-04-19T06:18:01.492949Z"
    }
   },
   "cell_type": "code",
   "source": [
    "X_new = np.array([[0], [2]])\n",
    "X_new_b = add_dummy_feature(X_new)  # add x0 = 1 to each instance\n",
    "y_predict = X_new_b @ theta_best\n",
    "y_predict"
   ],
   "id": "d7b46742d2c83146",
   "outputs": [
    {
     "data": {
      "text/plain": [
       "array([[4.21509616],\n",
       "       [9.75532293]])"
      ]
     },
     "execution_count": 4,
     "metadata": {},
     "output_type": "execute_result"
    }
   ],
   "execution_count": 4
  },
  {
   "metadata": {
    "ExecuteTime": {
     "end_time": "2025-04-19T06:18:02.365126Z",
     "start_time": "2025-04-19T06:18:02.296547Z"
    }
   },
   "cell_type": "code",
   "source": [
    "import matplotlib.pyplot as plt\n",
    "\n",
    "plt.plot(X_new, y_predict, \"r-\", label=\"Predictions\")\n",
    "plt.plot(X, y, \"b.\")\n",
    "\n",
    "plt.show()"
   ],
   "id": "896c21d7c8db889",
   "outputs": [
    {
     "data": {
      "text/plain": [
       "<Figure size 640x480 with 1 Axes>"
      ],
      "image/png": "[encoded data removed]"
     },
     "metadata": {},
     "output_type": "display_data"
    }
   ],
   "execution_count": 5
  },
  {
   "metadata": {
    "ExecuteTime": {
     "end_time": "2025-04-19T06:18:03.348957Z",
     "start_time": "2025-04-19T06:18:02.619737Z"
    }
   },
   "cell_type": "code",
   "source": [
    "from sklearn.linear_model import LinearRegression\n",
    "\n",
    "lin_reg = LinearRegression()\n",
    "lin_reg.fit(X, y)\n",
    "lin_reg.intercept_, lin_reg.coef_"
   ],
   "id": "6a4db3e848e120f8",
   "outputs": [
    {
     "data": {
      "text/plain": [
       "(array([4.21509616]), array([[2.77011339]]))"
      ]
     },
     "execution_count": 6,
     "metadata": {},
     "output_type": "execute_result"
    }
   ],
   "execution_count": 6
  },
  {
   "metadata": {
    "ExecuteTime": {
     "end_time": "2025-04-19T06:18:03.368593Z",
     "start_time": "2025-04-19T06:18:03.363366Z"
    }
   },
   "cell_type": "code",
   "source": "lin_reg.predict(X_new)",
   "id": "76f84af330de3ee6",
   "outputs": [
    {
     "data": {
      "text/plain": [
       "array([[4.21509616],\n",
       "       [9.75532293]])"
      ]
     },
     "execution_count": 7,
     "metadata": {},
     "output_type": "execute_result"
    }
   ],
   "execution_count": 7
  },
  {
   "metadata": {},
   "cell_type": "markdown",
   "source": " # Gradient Descent Approach or batch Gradient Descent",
   "id": "cd91d513ec8d7c1c"
  },
  {
   "metadata": {
    "ExecuteTime": {
     "end_time": "2025-04-19T06:18:03.434186Z",
     "start_time": "2025-04-19T06:18:03.425335Z"
    }
   },
   "cell_type": "code",
   "source": [
    "eta = 0.1  # learning rate\n",
    "n_epochs = 1000\n",
    "m = len(X_b)  # number of instances\n",
    "\n",
    "np.random.seed(42)\n",
    "theta = np.random.randn(2, 1)  # randomly initialized model parameters\n",
    "\n",
    "for epoch in range(n_epochs):\n",
    "    gradients = 2 / m * X_b.T @ (X_b @ theta - y)\n",
    "    theta = theta - eta * gradients"
   ],
   "id": "a173116a2b007601",
   "outputs": [],
   "execution_count": 8
  },
  {
   "metadata": {
    "ExecuteTime": {
     "end_time": "2025-04-19T06:18:03.569132Z",
     "start_time": "2025-04-19T06:18:03.563762Z"
    }
   },
   "cell_type": "code",
   "source": "theta",
   "id": "5fe61300c113a677",
   "outputs": [
    {
     "data": {
      "text/plain": [
       "array([[4.21509616],\n",
       "       [2.77011339]])"
      ]
     },
     "execution_count": 9,
     "metadata": {},
     "output_type": "execute_result"
    }
   ],
   "execution_count": 9
  },
  {
   "metadata": {},
   "cell_type": "markdown",
   "source": "# Stochastic Gradient Descent Approach",
   "id": "65f1e1f9ee8e9c59"
  },
  {
   "metadata": {
    "ExecuteTime": {
     "end_time": "2025-04-19T06:18:03.908516Z",
     "start_time": "2025-04-19T06:18:03.865329Z"
    }
   },
   "cell_type": "code",
   "source": [
    "n_epochs = 50\n",
    "t0, t1 = 5, 50  # learning schedule hyperparameters\n",
    "\n",
    "def learning_schedule(t):\n",
    "    return t0 / (t + t1)\n",
    "\n",
    "np.random.seed(42)\n",
    "theta = np.random.randn(2, 1)  # random initialization\n",
    "\n",
    "for epoch in range(n_epochs):\n",
    "    for iteration in range(m):\n",
    "        random_index = np.random.randint(m)\n",
    "        xi = X_b[random_index : random_index + 1]\n",
    "        yi = y[random_index : random_index + 1]\n",
    "        gradients = 2 * xi.T @ (xi @ theta - yi)  # for SGD, do not divide by m\n",
    "        eta = learning_schedule(epoch * m + iteration)\n",
    "        theta = theta - eta * gradients\n",
    "\n",
    "theta"
   ],
   "id": "32fcca4548a24ba9",
   "outputs": [
    {
     "data": {
      "text/plain": [
       "array([[4.21076011],\n",
       "       [2.74856079]])"
      ]
     },
     "execution_count": 10,
     "metadata": {},
     "output_type": "execute_result"
    }
   ],
   "execution_count": 10
  },
  {
   "metadata": {},
   "cell_type": "markdown",
   "source": "By convention we iterate by rounds of m iterations; each round is called an epoch, as earlier. While the batch gradient descent code iterated 1,000 times through the whole training set, this code goes through the training set only 50 times and reaches a pretty good solution:",
   "id": "c52dc47eaf668b8d"
  },
  {
   "metadata": {
    "ExecuteTime": {
     "end_time": "2025-04-19T06:18:04.103157Z",
     "start_time": "2025-04-19T06:18:04.091159Z"
    }
   },
   "cell_type": "code",
   "source": [
    "from sklearn.linear_model import SGDRegressor\n",
    "\n",
    "sgd_reg = SGDRegressor(max_iter=1000, tol=1e-5, penalty=None, eta0=0.01,\n",
    "                       n_iter_no_change=100, random_state=42)\n",
    "sgd_reg.fit(X, y.ravel())"
   ],
   "id": "9ca6dd86ed90e36f",
   "outputs": [
    {
     "data": {
      "text/plain": [
       "SGDRegressor(n_iter_no_change=100, penalty=None, random_state=42, tol=1e-05)"
      ],
      "text/html": [
       "<style>#sk-container-id-1 {\n",
       "  /* Definition of color scheme common for light and dark mode */\n",
       "  --sklearn-color-text: #000;\n",
       "  --sklearn-color-text-muted: #666;\n",
       "  --sklearn-color-line: gray;\n",
       "  /* Definition of color scheme for unfitted estimators */\n",
       "  --sklearn-color-unfitted-level-0: #fff5e6;\n",
       "  --sklearn-color-unfitted-level-1: #f6e4d2;\n",
       "  --sklearn-color-unfitted-level-2: #ffe0b3;\n",
       "  --sklearn-color-unfitted-level-3: chocolate;\n",
       "  /* Definition of color scheme for fitted estimators */\n",
       "  --sklearn-color-fitted-level-0: #f0f8ff;\n",
       "  --sklearn-color-fitted-level-1: #d4ebff;\n",
       "  --sklearn-color-fitted-level-2: #b3dbfd;\n",
       "  --sklearn-color-fitted-level-3: cornflowerblue;\n",
       "\n",
       "  /* Specific color for light theme */\n",
       "  --sklearn-color-text-on-default-background: var(--sg-text-color, var(--theme-code-foreground, var(--jp-content-font-color1, black)));\n",
       "  --sklearn-color-background: var(--sg-background-color, var(--theme-background, var(--jp-layout-color0, white)));\n",
       "  --sklearn-color-border-box: var(--sg-text-color, var(--theme-code-foreground, var(--jp-content-font-color1, black)));\n",
       "  --sklearn-color-icon: #696969;\n",
       "\n",
       "  @media (prefers-color-scheme: dark) {\n",
       "    /* Redefinition of color scheme for dark theme */\n",
       "    --sklearn-color-text-on-default-background: var(--sg-text-color, var(--theme-code-foreground, var(--jp-content-font-color1, white)));\n",
       "    --sklearn-color-background: var(--sg-background-color, var(--theme-background, var(--jp-layout-color0, #111)));\n",
       "    --sklearn-color-border-box: var(--sg-text-color, var(--theme-code-foreground, var(--jp-content-font-color1, white)));\n",
       "    --sklearn-color-icon: #878787;\n",
       "  }\n",
       "}\n",
       "\n",
       "#sk-container-id-1 {\n",
       "  color: var(--sklearn-color-text);\n",
       "}\n",
       "\n",
       "#sk-container-id-1 pre {\n",
       "  padding: 0;\n",
       "}\n",
       "\n",
       "#sk-container-id-1 input.sk-hidden--visually {\n",
       "  border: 0;\n",
       "  clip: rect(1px 1px 1px 1px);\n",
       "  clip: rect(1px, 1px, 1px, 1px);\n",
       "  height: 1px;\n",
       "  margin: -1px;\n",
       "  overflow: hidden;\n",
       "  padding: 0;\n",
       "  position: absolute;\n",
       "  width: 1px;\n",
       "}\n",
       "\n",
       "#sk-container-id-1 div.sk-dashed-wrapped {\n",
       "  border: 1px dashed var(--sklearn-color-line);\n",
       "  margin: 0 0.4em 0.5em 0.4em;\n",
       "  box-sizing: border-box;\n",
       "  padding-bottom: 0.4em;\n",
       "  background-color: var(--sklearn-color-background);\n",
       "}\n",
       "\n",
       "#sk-container-id-1 div.sk-container {\n",
       "  /* jupyter's `normalize.less` sets `[hidden] { display: none; }`\n",
       "     but bootstrap.min.css set `[hidden] { display: none !important; }`\n",
       "     so we also need the `!important` here to be able to override the\n",
       "     default hidden behavior on the sphinx rendered scikit-learn.org.\n",
       "     See: https://github.com/scikit-learn/scikit-learn/issues/21755 */\n",
       "  display: inline-block !important;\n",
       "  position: relative;\n",
       "}\n",
       "\n",
       "#sk-container-id-1 div.sk-text-repr-fallback {\n",
       "  display: none;\n",
       "}\n",
       "\n",
       "div.sk-parallel-item,\n",
       "div.sk-serial,\n",
       "div.sk-item {\n",
       "  /* draw centered vertical line to link estimators */\n",
       "  background-image: linear-gradient(var(--sklearn-color-text-on-default-background), var(--sklearn-color-text-on-default-background));\n",
       "  background-size: 2px 100%;\n",
       "  background-repeat: no-repeat;\n",
       "  background-position: center center;\n",
       "}\n",
       "\n",
       "/* Parallel-specific style estimator block */\n",
       "\n",
       "#sk-container-id-1 div.sk-parallel-item::after {\n",
       "  content: \"\";\n",
       "  width: 100%;\n",
       "  border-bottom: 2px solid var(--sklearn-color-text-on-default-background);\n",
       "  flex-grow: 1;\n",
       "}\n",
       "\n",
       "#sk-container-id-1 div.sk-parallel {\n",
       "  display: flex;\n",
       "  align-items: stretch;\n",
       "  justify-content: center;\n",
       "  background-color: var(--sklearn-color-background);\n",
       "  position: relative;\n",
       "}\n",
       "\n",
       "#sk-container-id-1 div.sk-parallel-item {\n",
       "  display: flex;\n",
       "  flex-direction: column;\n",
       "}\n",
       "\n",
       "#sk-container-id-1 div.sk-parallel-item:first-child::after {\n",
       "  align-self: flex-end;\n",
       "  width: 50%;\n",
       "}\n",
       "\n",
       "#sk-container-id-1 div.sk-parallel-item:last-child::after {\n",
       "  align-self: flex-start;\n",
       "  width: 50%;\n",
       "}\n",
       "\n",
       "#sk-container-id-1 div.sk-parallel-item:only-child::after {\n",
       "  width: 0;\n",
       "}\n",
       "\n",
       "/* Serial-specific style estimator block */\n",
       "\n",
       "#sk-container-id-1 div.sk-serial {\n",
       "  display: flex;\n",
       "  flex-direction: column;\n",
       "  align-items: center;\n",
       "  background-color: var(--sklearn-color-background);\n",
       "  padding-right: 1em;\n",
       "  padding-left: 1em;\n",
       "}\n",
       "\n",
       "\n",
       "/* Toggleable style: style used for estimator/Pipeline/ColumnTransformer box that is\n",
       "clickable and can be expanded/collapsed.\n",
       "- Pipeline and ColumnTransformer use this feature and define the default style\n",
       "- Estimators will overwrite some part of the style using the `sk-estimator` class\n",
       "*/\n",
       "\n",
       "/* Pipeline and ColumnTransformer style (default) */\n",
       "\n",
       "#sk-container-id-1 div.sk-toggleable {\n",
       "  /* Default theme specific background. It is overwritten whether we have a\n",
       "  specific estimator or a Pipeline/ColumnTransformer */\n",
       "  background-color: var(--sklearn-color-background);\n",
       "}\n",
       "\n",
       "/* Toggleable label */\n",
       "#sk-container-id-1 label.sk-toggleable__label {\n",
       "  cursor: pointer;\n",
       "  display: flex;\n",
       "  width: 100%;\n",
       "  margin-bottom: 0;\n",
       "  padding: 0.5em;\n",
       "  box-sizing: border-box;\n",
       "  text-align: center;\n",
       "  align-items: start;\n",
       "  justify-content: space-between;\n",
       "  gap: 0.5em;\n",
       "}\n",
       "\n",
       "#sk-container-id-1 label.sk-toggleable__label .caption {\n",
       "  font-size: 0.6rem;\n",
       "  font-weight: lighter;\n",
       "  color: var(--sklearn-color-text-muted);\n",
       "}\n",
       "\n",
       "#sk-container-id-1 label.sk-toggleable__label-arrow:before {\n",
       "  /* Arrow on the left of the label */\n",
       "  content: \"▸\";\n",
       "  float: left;\n",
       "  margin-right: 0.25em;\n",
       "  color: var(--sklearn-color-icon);\n",
       "}\n",
       "\n",
       "#sk-container-id-1 label.sk-toggleable__label-arrow:hover:before {\n",
       "  color: var(--sklearn-color-text);\n",
       "}\n",
       "\n",
       "/* Toggleable content - dropdown */\n",
       "\n",
       "#sk-container-id-1 div.sk-toggleable__content {\n",
       "  max-height: 0;\n",
       "  max-width: 0;\n",
       "  overflow: hidden;\n",
       "  text-align: left;\n",
       "  /* unfitted */\n",
       "  background-color: var(--sklearn-color-unfitted-level-0);\n",
       "}\n",
       "\n",
       "#sk-container-id-1 div.sk-toggleable__content.fitted {\n",
       "  /* fitted */\n",
       "  background-color: var(--sklearn-color-fitted-level-0);\n",
       "}\n",
       "\n",
       "#sk-container-id-1 div.sk-toggleable__content pre {\n",
       "  margin: 0.2em;\n",
       "  border-radius: 0.25em;\n",
       "  color: var(--sklearn-color-text);\n",
       "  /* unfitted */\n",
       "  background-color: var(--sklearn-color-unfitted-level-0);\n",
       "}\n",
       "\n",
       "#sk-container-id-1 div.sk-toggleable__content.fitted pre {\n",
       "  /* unfitted */\n",
       "  background-color: var(--sklearn-color-fitted-level-0);\n",
       "}\n",
       "\n",
       "#sk-container-id-1 input.sk-toggleable__control:checked~div.sk-toggleable__content {\n",
       "  /* Expand drop-down */\n",
       "  max-height: 200px;\n",
       "  max-width: 100%;\n",
       "  overflow: auto;\n",
       "}\n",
       "\n",
       "#sk-container-id-1 input.sk-toggleable__control:checked~label.sk-toggleable__label-arrow:before {\n",
       "  content: \"▾\";\n",
       "}\n",
       "\n",
       "/* Pipeline/ColumnTransformer-specific style */\n",
       "\n",
       "#sk-container-id-1 div.sk-label input.sk-toggleable__control:checked~label.sk-toggleable__label {\n",
       "  color: var(--sklearn-color-text);\n",
       "  background-color: var(--sklearn-color-unfitted-level-2);\n",
       "}\n",
       "\n",
       "#sk-container-id-1 div.sk-label.fitted input.sk-toggleable__control:checked~label.sk-toggleable__label {\n",
       "  background-color: var(--sklearn-color-fitted-level-2);\n",
       "}\n",
       "\n",
       "/* Estimator-specific style */\n",
       "\n",
       "/* Colorize estimator box */\n",
       "#sk-container-id-1 div.sk-estimator input.sk-toggleable__control:checked~label.sk-toggleable__label {\n",
       "  /* unfitted */\n",
       "  background-color: var(--sklearn-color-unfitted-level-2);\n",
       "}\n",
       "\n",
       "#sk-container-id-1 div.sk-estimator.fitted input.sk-toggleable__control:checked~label.sk-toggleable__label {\n",
       "  /* fitted */\n",
       "  background-color: var(--sklearn-color-fitted-level-2);\n",
       "}\n",
       "\n",
       "#sk-container-id-1 div.sk-label label.sk-toggleable__label,\n",
       "#sk-container-id-1 div.sk-label label {\n",
       "  /* The background is the default theme color */\n",
       "  color: var(--sklearn-color-text-on-default-background);\n",
       "}\n",
       "\n",
       "/* On hover, darken the color of the background */\n",
       "#sk-container-id-1 div.sk-label:hover label.sk-toggleable__label {\n",
       "  color: var(--sklearn-color-text);\n",
       "  background-color: var(--sklearn-color-unfitted-level-2);\n",
       "}\n",
       "\n",
       "/* Label box, darken color on hover, fitted */\n",
       "#sk-container-id-1 div.sk-label.fitted:hover label.sk-toggleable__label.fitted {\n",
       "  color: var(--sklearn-color-text);\n",
       "  background-color: var(--sklearn-color-fitted-level-2);\n",
       "}\n",
       "\n",
       "/* Estimator label */\n",
       "\n",
       "#sk-container-id-1 div.sk-label label {\n",
       "  font-family: monospace;\n",
       "  font-weight: bold;\n",
       "  display: inline-block;\n",
       "  line-height: 1.2em;\n",
       "}\n",
       "\n",
       "#sk-container-id-1 div.sk-label-container {\n",
       "  text-align: center;\n",
       "}\n",
       "\n",
       "/* Estimator-specific */\n",
       "#sk-container-id-1 div.sk-estimator {\n",
       "  font-family: monospace;\n",
       "  border: 1px dotted var(--sklearn-color-border-box);\n",
       "  border-radius: 0.25em;\n",
       "  box-sizing: border-box;\n",
       "  margin-bottom: 0.5em;\n",
       "  /* unfitted */\n",
       "  background-color: var(--sklearn-color-unfitted-level-0);\n",
       "}\n",
       "\n",
       "#sk-container-id-1 div.sk-estimator.fitted {\n",
       "  /* fitted */\n",
       "  background-color: var(--sklearn-color-fitted-level-0);\n",
       "}\n",
       "\n",
       "/* on hover */\n",
       "#sk-container-id-1 div.sk-estimator:hover {\n",
       "  /* unfitted */\n",
       "  background-color: var(--sklearn-color-unfitted-level-2);\n",
       "}\n",
       "\n",
       "#sk-container-id-1 div.sk-estimator.fitted:hover {\n",
       "  /* fitted */\n",
       "  background-color: var(--sklearn-color-fitted-level-2);\n",
       "}\n",
       "\n",
       "/* Specification for estimator info (e.g. \"i\" and \"?\") */\n",
       "\n",
       "/* Common style for \"i\" and \"?\" */\n",
       "\n",
       ".sk-estimator-doc-link,\n",
       "a:link.sk-estimator-doc-link,\n",
       "a:visited.sk-estimator-doc-link {\n",
       "  float: right;\n",
       "  font-size: smaller;\n",
       "  line-height: 1em;\n",
       "  font-family: monospace;\n",
       "  background-color: var(--sklearn-color-background);\n",
       "  border-radius: 1em;\n",
       "  height: 1em;\n",
       "  width: 1em;\n",
       "  text-decoration: none !important;\n",
       "  margin-left: 0.5em;\n",
       "  text-align: center;\n",
       "  /* unfitted */\n",
       "  border: var(--sklearn-color-unfitted-level-1) 1pt solid;\n",
       "  color: var(--sklearn-color-unfitted-level-1);\n",
       "}\n",
       "\n",
       ".sk-estimator-doc-link.fitted,\n",
       "a:link.sk-estimator-doc-link.fitted,\n",
       "a:visited.sk-estimator-doc-link.fitted {\n",
       "  /* fitted */\n",
       "  border: var(--sklearn-color-fitted-level-1) 1pt solid;\n",
       "  color: var(--sklearn-color-fitted-level-1);\n",
       "}\n",
       "\n",
       "/* On hover */\n",
       "div.sk-estimator:hover .sk-estimator-doc-link:hover,\n",
       ".sk-estimator-doc-link:hover,\n",
       "div.sk-label-container:hover .sk-estimator-doc-link:hover,\n",
       ".sk-estimator-doc-link:hover {\n",
       "  /* unfitted */\n",
       "  background-color: var(--sklearn-color-unfitted-level-3);\n",
       "  color: var(--sklearn-color-background);\n",
       "  text-decoration: none;\n",
       "}\n",
       "\n",
       "div.sk-estimator.fitted:hover .sk-estimator-doc-link.fitted:hover,\n",
       ".sk-estimator-doc-link.fitted:hover,\n",
       "div.sk-label-container:hover .sk-estimator-doc-link.fitted:hover,\n",
       ".sk-estimator-doc-link.fitted:hover {\n",
       "  /* fitted */\n",
       "  background-color: var(--sklearn-color-fitted-level-3);\n",
       "  color: var(--sklearn-color-background);\n",
       "  text-decoration: none;\n",
       "}\n",
       "\n",
       "/* Span, style for the box shown on hovering the info icon */\n",
       ".sk-estimator-doc-link span {\n",
       "  display: none;\n",
       "  z-index: 9999;\n",
       "  position: relative;\n",
       "  font-weight: normal;\n",
       "  right: .2ex;\n",
       "  padding: .5ex;\n",
       "  margin: .5ex;\n",
       "  width: min-content;\n",
       "  min-width: 20ex;\n",
       "  max-width: 50ex;\n",
       "  color: var(--sklearn-color-text);\n",
       "  box-shadow: 2pt 2pt 4pt #999;\n",
       "  /* unfitted */\n",
       "  background: var(--sklearn-color-unfitted-level-0);\n",
       "  border: .5pt solid var(--sklearn-color-unfitted-level-3);\n",
       "}\n",
       "\n",
       ".sk-estimator-doc-link.fitted span {\n",
       "  /* fitted */\n",
       "  background: var(--sklearn-color-fitted-level-0);\n",
       "  border: var(--sklearn-color-fitted-level-3);\n",
       "}\n",
       "\n",
       ".sk-estimator-doc-link:hover span {\n",
       "  display: block;\n",
       "}\n",
       "\n",
       "/* \"?\"-specific style due to the `<a>` HTML tag */\n",
       "\n",
       "#sk-container-id-1 a.estimator_doc_link {\n",
       "  float: right;\n",
       "  font-size: 1rem;\n",
       "  line-height: 1em;\n",
       "  font-family: monospace;\n",
       "  background-color: var(--sklearn-color-background);\n",
       "  border-radius: 1rem;\n",
       "  height: 1rem;\n",
       "  width: 1rem;\n",
       "  text-decoration: none;\n",
       "  /* unfitted */\n",
       "  color: var(--sklearn-color-unfitted-level-1);\n",
       "  border: var(--sklearn-color-unfitted-level-1) 1pt solid;\n",
       "}\n",
       "\n",
       "#sk-container-id-1 a.estimator_doc_link.fitted {\n",
       "  /* fitted */\n",
       "  border: var(--sklearn-color-fitted-level-1) 1pt solid;\n",
       "  color: var(--sklearn-color-fitted-level-1);\n",
       "}\n",
       "\n",
       "/* On hover */\n",
       "#sk-container-id-1 a.estimator_doc_link:hover {\n",
       "  /* unfitted */\n",
       "  background-color: var(--sklearn-color-unfitted-level-3);\n",
       "  color: var(--sklearn-color-background);\n",
       "  text-decoration: none;\n",
       "}\n",
       "\n",
       "#sk-container-id-1 a.estimator_doc_link.fitted:hover {\n",
       "  /* fitted */\n",
       "  background-color: var(--sklearn-color-fitted-level-3);\n",
       "}\n",
       "</style><div id=\"sk-container-id-1\" class=\"sk-top-container\"><div class=\"sk-text-repr-fallback\"><pre>SGDRegressor(n_iter_no_change=100, penalty=None, random_state=42, tol=1e-05)</pre><b>In a Jupyter environment, please rerun this cell to show the HTML representation or trust the notebook. <br />On GitHub, the HTML representation is unable to render, please try loading this page with nbviewer.org.</b></div><div class=\"sk-container\" hidden><div class=\"sk-item\"><div class=\"sk-estimator fitted sk-toggleable\"><input class=\"sk-toggleable__control sk-hidden--visually\" id=\"sk-estimator-id-1\" type=\"checkbox\" checked><label for=\"sk-estimator-id-1\" class=\"sk-toggleable__label fitted sk-toggleable__label-arrow\"><div><div>SGDRegressor</div></div><div><a class=\"sk-estimator-doc-link fitted\" rel=\"noreferrer\" target=\"_blank\" href=\"https://scikit-learn.org/1.6/modules/generated/sklearn.linear_model.SGDRegressor.html\">?<span>Documentation for SGDRegressor</span></a><span class=\"sk-estimator-doc-link fitted\">i<span>Fitted</span></span></div></label><div class=\"sk-toggleable__content fitted\"><pre>SGDRegressor(n_iter_no_change=100, penalty=None, random_state=42, tol=1e-05)</pre></div> </div></div></div></div>"
      ]
     },
     "execution_count": 11,
     "metadata": {},
     "output_type": "execute_result"
    }
   ],
   "execution_count": 11
  },
  {
   "metadata": {
    "ExecuteTime": {
     "end_time": "2025-04-19T06:18:04.388205Z",
     "start_time": "2025-04-19T06:18:04.383306Z"
    }
   },
   "cell_type": "code",
   "source": "sgd_reg.intercept_, sgd_reg.coef_",
   "id": "79236f6c8fc05059",
   "outputs": [
    {
     "data": {
      "text/plain": [
       "(array([4.21278812]), array([2.77270267]))"
      ]
     },
     "execution_count": 12,
     "metadata": {},
     "output_type": "execute_result"
    }
   ],
   "execution_count": 12
  },
  {
   "metadata": {},
   "cell_type": "markdown",
   "source": "# Minibatch gradient descent",
   "id": "1cc98c55ca00c126"
  },
  {
   "metadata": {},
   "cell_type": "markdown",
   "source": "# Polynomial Regression",
   "id": "790145bc9f4f948f"
  },
  {
   "metadata": {
    "ExecuteTime": {
     "end_time": "2025-04-19T06:18:04.594635Z",
     "start_time": "2025-04-19T06:18:04.511395Z"
    }
   },
   "cell_type": "code",
   "source": [
    "\n",
    "\n",
    "np.random.seed(42)\n",
    "m = 100\n",
    "X = 6 * np.random.rand(m, 1) - 3\n",
    "y = 0.5 * X ** 2 + X + 2 + np.random.randn(m, 1)\n",
    "\n",
    "sns.scatterplot(x=X.ravel(), y=y.ravel())"
   ],
   "id": "f1df8a0d899b9404",
   "outputs": [
    {
     "data": {
      "text/plain": [
       "<Axes: >"
      ]
     },
     "execution_count": 13,
     "metadata": {},
     "output_type": "execute_result"
    },
    {
     "data": {
      "text/plain": [
       "<Figure size 640x480 with 1 Axes>"
      ],
      "image/png": "[encoded data removed]"
     },
     "metadata": {},
     "output_type": "display_data"
    }
   ],
   "execution_count": 13
  },
  {
   "metadata": {
    "ExecuteTime": {
     "end_time": "2025-04-19T06:18:04.629458Z",
     "start_time": "2025-04-19T06:18:04.624366Z"
    }
   },
   "cell_type": "code",
   "source": [
    "from sklearn.preprocessing import PolynomialFeatures\n",
    "poly_features = PolynomialFeatures(degree=2, include_bias=False)\n",
    "X_poly = poly_features.fit_transform(X)"
   ],
   "id": "b51680ebce0b0ff8",
   "outputs": [],
   "execution_count": 14
  },
  {
   "metadata": {
    "ExecuteTime": {
     "end_time": "2025-04-19T06:18:04.690186Z",
     "start_time": "2025-04-19T06:18:04.684639Z"
    }
   },
   "cell_type": "code",
   "source": "X_poly",
   "id": "25f96bbd5875116c",
   "outputs": [
    {
     "data": {
      "text/plain": [
       "array([[-7.52759287e-01,  5.66646544e-01],\n",
       "       [ 2.70428584e+00,  7.31316190e+00],\n",
       "       [ 1.39196365e+00,  1.93756281e+00],\n",
       "       [ 5.91950905e-01,  3.50405874e-01],\n",
       "       [-2.06388816e+00,  4.25963433e+00],\n",
       "       [-2.06403288e+00,  4.26023172e+00],\n",
       "       [-2.65149833e+00,  7.03044338e+00],\n",
       "       [ 2.19705687e+00,  4.82705891e+00],\n",
       "       [ 6.06690070e-01,  3.68072842e-01],\n",
       "       [ 1.24843547e+00,  1.55859111e+00],\n",
       "       [-2.87649303e+00,  8.27421218e+00],\n",
       "       [ 2.81945911e+00,  7.94934969e+00],\n",
       "       [ 1.99465584e+00,  3.97865194e+00],\n",
       "       [-1.72596534e+00,  2.97895634e+00],\n",
       "       [-1.90905020e+00,  3.64447265e+00],\n",
       "       [-1.89957294e+00,  3.60837736e+00],\n",
       "       [-1.17454654e+00,  1.37955958e+00],\n",
       "       [ 1.48538590e-01,  2.20637127e-02],\n",
       "       [-4.08329888e-01,  1.66733298e-01],\n",
       "       [-1.25262516e+00,  1.56906979e+00],\n",
       "       [ 6.71117368e-01,  4.50398522e-01],\n",
       "       [-2.16303684e+00,  4.67872835e+00],\n",
       "       [-1.24713211e+00,  1.55533850e+00],\n",
       "       [-8.01828940e-01,  6.42929649e-01],\n",
       "       [-2.63580095e-01,  6.94744663e-02],\n",
       "       [ 1.71105577e+00,  2.92771184e+00],\n",
       "       [-1.80195731e+00,  3.24705014e+00],\n",
       "       [ 8.54066305e-02,  7.29429253e-03],\n",
       "       [ 5.54487413e-01,  3.07456291e-01],\n",
       "       [-2.72129752e+00,  7.40546021e+00],\n",
       "       [ 6.45269111e-01,  4.16372226e-01],\n",
       "       [-1.97685526e+00,  3.90795671e+00],\n",
       "       [-2.60969044e+00,  6.81048420e+00],\n",
       "       [ 2.69331322e+00,  7.25393612e+00],\n",
       "       [ 2.79379220e+00,  7.80527485e+00],\n",
       "       [ 1.85038409e+00,  3.42392128e+00],\n",
       "       [-1.17231738e+00,  1.37432805e+00],\n",
       "       [-2.41396732e+00,  5.82723820e+00],\n",
       "       [ 1.10539816e+00,  1.22190509e+00],\n",
       "       [-3.59085038e-01,  1.28942064e-01],\n",
       "       [-2.26777059e+00,  5.14278345e+00],\n",
       "       [-2.89385393e-02,  8.37439059e-04],\n",
       "       [-2.79366887e+00,  7.80458577e+00],\n",
       "       [ 2.45592241e+00,  6.03155490e+00],\n",
       "       [-1.44732011e+00,  2.09473550e+00],\n",
       "       [ 9.75133706e-01,  9.50885745e-01],\n",
       "       [-1.12973354e+00,  1.27629788e+00],\n",
       "       [ 1.20408127e-01,  1.44981171e-02],\n",
       "       [ 2.80261676e-01,  7.85466071e-02],\n",
       "       [-1.89087327e+00,  3.57540171e+00],\n",
       "       [ 2.81750777e+00,  7.93835001e+00],\n",
       "       [ 1.65079694e+00,  2.72513054e+00],\n",
       "       [ 2.63699365e+00,  6.95373551e+00],\n",
       "       [ 2.36896410e+00,  5.61199092e+00],\n",
       "       [ 5.87399873e-01,  3.45038611e-01],\n",
       "       [ 2.53124541e+00,  6.40720333e+00],\n",
       "       [-2.46904499e+00,  6.09618315e+00],\n",
       "       [-1.82410283e+00,  3.32735112e+00],\n",
       "       [-2.72863627e+00,  7.44545588e+00],\n",
       "       [-1.04801802e+00,  1.09834176e+00],\n",
       "       [-6.67936262e-01,  4.46138850e-01],\n",
       "       [-1.37190581e+00,  1.88212555e+00],\n",
       "       [ 1.97242505e+00,  3.89046060e+00],\n",
       "       [-8.59480040e-01,  7.38705939e-01],\n",
       "       [-1.31439294e+00,  1.72762881e+00],\n",
       "       [ 2.56176499e-01,  6.56263986e-02],\n",
       "       [-2.15445465e+00,  4.64167484e+00],\n",
       "       [ 1.81318188e+00,  3.28762855e+00],\n",
       "       [-2.55269614e+00,  6.51625757e+00],\n",
       "       [ 2.92132162e+00,  8.53412001e+00],\n",
       "       [ 1.63346862e+00,  2.66821972e+00],\n",
       "       [-1.80770591e+00,  3.26780066e+00],\n",
       "       [-2.96686730e+00,  8.80230156e+00],\n",
       "       [ 1.89276857e+00,  3.58257286e+00],\n",
       "       [ 1.24114406e+00,  1.54043859e+00],\n",
       "       [ 1.37404301e+00,  1.88799419e+00],\n",
       "       [ 1.62762208e+00,  2.64915364e+00],\n",
       "       [-2.55573209e+00,  6.53176651e+00],\n",
       "       [-8.49205629e-01,  7.21150200e-01],\n",
       "       [-2.30478564e+00,  5.31203686e+00],\n",
       "       [ 2.17862056e+00,  4.74638752e+00],\n",
       "       [ 7.39788761e-01,  5.47287411e-01],\n",
       "       [-1.01461185e+00,  1.02943721e+00],\n",
       "       [-2.61864990e+00,  6.85732729e+00],\n",
       "       [-1.13410607e+00,  1.28619658e+00],\n",
       "       [-1.04890007e+00,  1.10019135e+00],\n",
       "       [ 1.37763707e+00,  1.89788390e+00],\n",
       "       [ 8.25344828e-01,  6.81194085e-01],\n",
       "       [ 2.32327646e+00,  5.39761349e+00],\n",
       "       [-1.66710449e-01,  2.77923738e-02],\n",
       "       [-2.28243452e+00,  5.20950736e+00],\n",
       "       [ 1.27946872e+00,  1.63704021e+00],\n",
       "       [ 1.56471029e+00,  2.44831830e+00],\n",
       "       [ 3.67663185e-01,  1.35176218e-01],\n",
       "       [ 1.62580308e+00,  2.64323565e+00],\n",
       "       [-3.72264218e-02,  1.38580648e-03],\n",
       "       [ 1.36396976e-01,  1.86041351e-02],\n",
       "       [-4.34753890e-01,  1.89010945e-01],\n",
       "       [-2.84748524e+00,  8.10817219e+00],\n",
       "       [-2.35265144e+00,  5.53496879e+00]])"
      ]
     },
     "execution_count": 15,
     "metadata": {},
     "output_type": "execute_result"
    }
   ],
   "execution_count": 15
  },
  {
   "metadata": {
    "ExecuteTime": {
     "end_time": "2025-04-19T06:18:04.863526Z",
     "start_time": "2025-04-19T06:18:04.857526Z"
    }
   },
   "cell_type": "code",
   "source": "X",
   "id": "b995f11f007d7dde",
   "outputs": [
    {
     "data": {
      "text/plain": [
       "array([[-0.75275929],\n",
       "       [ 2.70428584],\n",
       "       [ 1.39196365],\n",
       "       [ 0.59195091],\n",
       "       [-2.06388816],\n",
       "       [-2.06403288],\n",
       "       [-2.65149833],\n",
       "       [ 2.19705687],\n",
       "       [ 0.60669007],\n",
       "       [ 1.24843547],\n",
       "       [-2.87649303],\n",
       "       [ 2.81945911],\n",
       "       [ 1.99465584],\n",
       "       [-1.72596534],\n",
       "       [-1.9090502 ],\n",
       "       [-1.89957294],\n",
       "       [-1.17454654],\n",
       "       [ 0.14853859],\n",
       "       [-0.40832989],\n",
       "       [-1.25262516],\n",
       "       [ 0.67111737],\n",
       "       [-2.16303684],\n",
       "       [-1.24713211],\n",
       "       [-0.80182894],\n",
       "       [-0.26358009],\n",
       "       [ 1.71105577],\n",
       "       [-1.80195731],\n",
       "       [ 0.08540663],\n",
       "       [ 0.55448741],\n",
       "       [-2.72129752],\n",
       "       [ 0.64526911],\n",
       "       [-1.97685526],\n",
       "       [-2.60969044],\n",
       "       [ 2.69331322],\n",
       "       [ 2.7937922 ],\n",
       "       [ 1.85038409],\n",
       "       [-1.17231738],\n",
       "       [-2.41396732],\n",
       "       [ 1.10539816],\n",
       "       [-0.35908504],\n",
       "       [-2.26777059],\n",
       "       [-0.02893854],\n",
       "       [-2.79366887],\n",
       "       [ 2.45592241],\n",
       "       [-1.44732011],\n",
       "       [ 0.97513371],\n",
       "       [-1.12973354],\n",
       "       [ 0.12040813],\n",
       "       [ 0.28026168],\n",
       "       [-1.89087327],\n",
       "       [ 2.81750777],\n",
       "       [ 1.65079694],\n",
       "       [ 2.63699365],\n",
       "       [ 2.3689641 ],\n",
       "       [ 0.58739987],\n",
       "       [ 2.53124541],\n",
       "       [-2.46904499],\n",
       "       [-1.82410283],\n",
       "       [-2.72863627],\n",
       "       [-1.04801802],\n",
       "       [-0.66793626],\n",
       "       [-1.37190581],\n",
       "       [ 1.97242505],\n",
       "       [-0.85948004],\n",
       "       [-1.31439294],\n",
       "       [ 0.2561765 ],\n",
       "       [-2.15445465],\n",
       "       [ 1.81318188],\n",
       "       [-2.55269614],\n",
       "       [ 2.92132162],\n",
       "       [ 1.63346862],\n",
       "       [-1.80770591],\n",
       "       [-2.9668673 ],\n",
       "       [ 1.89276857],\n",
       "       [ 1.24114406],\n",
       "       [ 1.37404301],\n",
       "       [ 1.62762208],\n",
       "       [-2.55573209],\n",
       "       [-0.84920563],\n",
       "       [-2.30478564],\n",
       "       [ 2.17862056],\n",
       "       [ 0.73978876],\n",
       "       [-1.01461185],\n",
       "       [-2.6186499 ],\n",
       "       [-1.13410607],\n",
       "       [-1.04890007],\n",
       "       [ 1.37763707],\n",
       "       [ 0.82534483],\n",
       "       [ 2.32327646],\n",
       "       [-0.16671045],\n",
       "       [-2.28243452],\n",
       "       [ 1.27946872],\n",
       "       [ 1.56471029],\n",
       "       [ 0.36766319],\n",
       "       [ 1.62580308],\n",
       "       [-0.03722642],\n",
       "       [ 0.13639698],\n",
       "       [-0.43475389],\n",
       "       [-2.84748524],\n",
       "       [-2.35265144]])"
      ]
     },
     "execution_count": 16,
     "metadata": {},
     "output_type": "execute_result"
    }
   ],
   "execution_count": 16
  },
  {
   "metadata": {
    "ExecuteTime": {
     "end_time": "2025-04-19T06:18:05.152811Z",
     "start_time": "2025-04-19T06:18:05.142444Z"
    }
   },
   "cell_type": "code",
   "source": [
    "lin_reg = LinearRegression()\n",
    "lin_reg.fit(X_poly, y)\n",
    "lin_reg.intercept_, lin_reg.coef_"
   ],
   "id": "f1f743d0b1388e88",
   "outputs": [
    {
     "data": {
      "text/plain": [
       "(array([1.78134581]), array([[0.93366893, 0.56456263]]))"
      ]
     },
     "execution_count": 17,
     "metadata": {},
     "output_type": "execute_result"
    }
   ],
   "execution_count": 17
  },
  {
   "metadata": {
    "ExecuteTime": {
     "end_time": "2025-04-19T06:18:05.627844Z",
     "start_time": "2025-04-19T06:18:05.378993Z"
    }
   },
   "cell_type": "code",
   "source": [
    "from sklearn.model_selection import learning_curve\n",
    "train_sizes, train_scores, valid_scores = learning_curve(\n",
    "    LinearRegression(), X, y, train_sizes=np.linspace(0.01, 1.0, 40), cv=5,\n",
    "    scoring=\"neg_root_mean_squared_error\")\n",
    "train_errors = -train_scores.mean(axis=1)\n",
    "valid_errors = -valid_scores.mean(axis=1)\n",
    "\n",
    "plt.plot(train_sizes, train_errors, \"r-+\", linewidth=2, label=\"train\")\n",
    "plt.plot(train_sizes, valid_errors, \"b-\", linewidth=3, label=\"valid\")\n",
    "plt.show()"
   ],
   "id": "5cae33095a211b43",
   "outputs": [
    {
     "data": {
      "text/plain": [
       "<Figure size 640x480 with 1 Axes>"
      ],
      "image/png": "[encoded data removed]"
     },
     "metadata": {},
     "output_type": "display_data"
    }
   ],
   "execution_count": 18
  },
  {
   "metadata": {
    "ExecuteTime": {
     "end_time": "2025-04-19T06:18:05.670298Z",
     "start_time": "2025-04-19T06:18:05.644636Z"
    }
   },
   "cell_type": "code",
   "source": [
    "\n",
    "train_size_abs, train_scores, test_scores = learning_curve(\n",
    "    LinearRegression(), X, y, train_sizes=[0.3, 0.6, 0.9], cv=5,scoring=\"neg_root_mean_squared_error\")\n",
    "for train_size, cv_train_scores, cv_test_scores in zip(\n",
    "    train_size_abs, train_scores, test_scores\n",
    "):\n",
    "    print(f\"{train_size} samples were used to train the model\")\n",
    "    print(f\"The average train accuracy is {cv_train_scores.mean():.2f}\")\n",
    "    print(f\"The average test accuracy is {cv_test_scores.mean():.2f}\")"
   ],
   "id": "a78afecc7640981d",
   "outputs": [
    {
     "name": "stdout",
     "output_type": "stream",
     "text": [
      "24 samples were used to train the model\n",
      "The average train accuracy is -1.79\n",
      "The average test accuracy is -1.75\n",
      "48 samples were used to train the model\n",
      "The average train accuracy is -1.74\n",
      "The average test accuracy is -1.76\n",
      "72 samples were used to train the model\n",
      "The average train accuracy is -1.75\n",
      "The average test accuracy is -1.75\n"
     ]
    }
   ],
   "execution_count": 19
  },
  {
   "metadata": {
    "ExecuteTime": {
     "end_time": "2025-04-19T06:18:06.200946Z",
     "start_time": "2025-04-19T06:18:05.694122Z"
    }
   },
   "cell_type": "code",
   "source": [
    "from sklearn.pipeline import make_pipeline\n",
    "\n",
    "polynomial_regression = make_pipeline(\n",
    "    PolynomialFeatures(degree=10, include_bias=False),\n",
    "    LinearRegression())\n",
    "\n",
    "train_sizes, train_scores, valid_scores = learning_curve(\n",
    "    polynomial_regression, X, y, train_sizes=np.linspace(0.01, 1.0, 40), cv=5,\n",
    "    scoring=\"neg_root_mean_squared_error\")\n",
    "\n",
    "train_errors = -train_scores.mean(axis=1)\n",
    "valid_errors = -valid_scores.mean(axis=1)\n",
    "\n",
    "plt.plot(train_sizes, train_errors, \"r-+\", linewidth=2, label=\"train\")\n",
    "plt.plot(train_sizes, valid_errors, \"b-\", linewidth=3, label=\"valid\")\n",
    "plt.show()"
   ],
   "id": "56eb6c4d2e54b597",
   "outputs": [
    {
     "data": {
      "text/plain": [
       "<Figure size 640x480 with 1 Axes>"
      ],
      "image/png": "[encoded data removed]"
     },
     "metadata": {},
     "output_type": "display_data"
    }
   ],
   "execution_count": 20
  },
  {
   "metadata": {
    "ExecuteTime": {
     "end_time": "2025-04-19T06:18:06.260829Z",
     "start_time": "2025-04-19T06:18:06.219142Z"
    }
   },
   "cell_type": "code",
   "source": [
    "\n",
    "train_size_abs, train_scores, test_scores = learning_curve(\n",
    "    polynomial_regression, X, y, train_sizes=[0.3, 0.6, 0.9], cv=5,scoring=\"neg_root_mean_squared_error\")\n",
    "for train_size, cv_train_scores, cv_test_scores in zip(\n",
    "    train_size_abs, train_scores, test_scores\n",
    "):\n",
    "    print(f\"{train_size} samples were used to train the model\")\n",
    "    print(f\"The average train accuracy is {cv_train_scores.mean():.2f}\")\n",
    "    print(f\"The average test accuracy is {cv_test_scores.mean():.2f}\")"
   ],
   "id": "c8a927d5a6580d38",
   "outputs": [
    {
     "name": "stdout",
     "output_type": "stream",
     "text": [
      "24 samples were used to train the model\n",
      "The average train accuracy is -0.51\n",
      "The average test accuracy is -1.12\n",
      "48 samples were used to train the model\n",
      "The average train accuracy is -0.79\n",
      "The average test accuracy is -1.06\n",
      "72 samples were used to train the model\n",
      "The average train accuracy is -0.87\n",
      "The average test accuracy is -1.04\n"
     ]
    }
   ],
   "execution_count": 21
  },
  {
   "metadata": {
    "ExecuteTime": {
     "end_time": "2025-04-19T06:40:25.815084Z",
     "start_time": "2025-04-19T06:40:25.807991Z"
    }
   },
   "cell_type": "code",
   "source": [
    "from sklearn.linear_model import  Ridge\n",
    "\n",
    "rid_reg = Ridge(alpha=0.1, solver=\"cholesky\")\n",
    "rid_reg.fit(X,y)\n",
    "rid_reg.predict([[1.5]])"
   ],
   "id": "e17ad06d14a6beaf",
   "outputs": [
    {
     "data": {
      "text/plain": [
       "array([4.82899748])"
      ]
     },
     "execution_count": 23,
     "metadata": {},
     "output_type": "execute_result"
    }
   ],
   "execution_count": 23
  },
  {
   "metadata": {
    "ExecuteTime": {
     "end_time": "2025-04-19T06:44:10.152040Z",
     "start_time": "2025-04-19T06:44:10.137257Z"
    }
   },
   "cell_type": "code",
   "source": [
    "sgd_reg = SGDRegressor(max_iter=1000, tol=None, penalty='l2', eta0=0.01,random_state=42)\n",
    "sgd_reg.fit(X, y.ravel())\n",
    "sgd_reg.predict([[1.5]])"
   ],
   "id": "cbf7e27cd106e088",
   "outputs": [
    {
     "data": {
      "text/plain": [
       "array([4.8287052])"
      ]
     },
     "execution_count": 24,
     "metadata": {},
     "output_type": "execute_result"
    }
   ],
   "execution_count": 24
  },
  {
   "metadata": {
    "ExecuteTime": {
     "end_time": "2025-04-19T09:52:29.193431Z",
     "start_time": "2025-04-19T09:52:29.170247Z"
    }
   },
   "cell_type": "code",
   "source": [
    "from sklearn.datasets import load_iris\n",
    "\n",
    "iris = load_iris(as_frame=True)\n",
    "iris.data"
   ],
   "id": "86a9f8bc2c8f71f0",
   "outputs": [
    {
     "data": {
      "text/plain": [
       "     sepal length (cm)  sepal width (cm)  petal length (cm)  petal width (cm)\n",
       "0                  5.1               3.5                1.4               0.2\n",
       "1                  4.9               3.0                1.4               0.2\n",
       "2                  4.7               3.2                1.3               0.2\n",
       "3                  4.6               3.1                1.5               0.2\n",
       "4                  5.0               3.6                1.4               0.2\n",
       "..                 ...               ...                ...               ...\n",
       "145                6.7               3.0                5.2               2.3\n",
       "146                6.3               2.5                5.0               1.9\n",
       "147                6.5               3.0                5.2               2.0\n",
       "148                6.2               3.4                5.4               2.3\n",
       "149                5.9               3.0                5.1               1.8\n",
       "\n",
       "[150 rows x 4 columns]"
      ],
      "text/html": [
       "<div>\n",
       "<style scoped>\n",
       "    .dataframe tbody tr th:only-of-type {\n",
       "        vertical-align: middle;\n",
       "    }\n",
       "\n",
       "    .dataframe tbody tr th {\n",
       "        vertical-align: top;\n",
       "    }\n",
       "\n",
       "    .dataframe thead th {\n",
       "        text-align: right;\n",
       "    }\n",
       "</style>\n",
       "<table border=\"1\" class=\"dataframe\">\n",
       "  <thead>\n",
       "    <tr style=\"text-align: right;\">\n",
       "      <th></th>\n",
       "      <th>sepal length (cm)</th>\n",
       "      <th>sepal width (cm)</th>\n",
       "      <th>petal length (cm)</th>\n",
       "      <th>petal width (cm)</th>\n",
       "    </tr>\n",
       "  </thead>\n",
       "  <tbody>\n",
       "    <tr>\n",
       "      <th>0</th>\n",
       "      <td>5.1</td>\n",
       "      <td>3.5</td>\n",
       "      <td>1.4</td>\n",
       "      <td>0.2</td>\n",
       "    </tr>\n",
       "    <tr>\n",
       "      <th>1</th>\n",
       "      <td>4.9</td>\n",
       "      <td>3.0</td>\n",
       "      <td>1.4</td>\n",
       "      <td>0.2</td>\n",
       "    </tr>\n",
       "    <tr>\n",
       "      <th>2</th>\n",
       "      <td>4.7</td>\n",
       "      <td>3.2</td>\n",
       "      <td>1.3</td>\n",
       "      <td>0.2</td>\n",
       "    </tr>\n",
       "    <tr>\n",
       "      <th>3</th>\n",
       "      <td>4.6</td>\n",
       "      <td>3.1</td>\n",
       "      <td>1.5</td>\n",
       "      <td>0.2</td>\n",
       "    </tr>\n",
       "    <tr>\n",
       "      <th>4</th>\n",
       "      <td>5.0</td>\n",
       "      <td>3.6</td>\n",
       "      <td>1.4</td>\n",
       "      <td>0.2</td>\n",
       "    </tr>\n",
       "    <tr>\n",
       "      <th>...</th>\n",
       "      <td>...</td>\n",
       "      <td>...</td>\n",
       "      <td>...</td>\n",
       "      <td>...</td>\n",
       "    </tr>\n",
       "    <tr>\n",
       "      <th>145</th>\n",
       "      <td>6.7</td>\n",
       "      <td>3.0</td>\n",
       "      <td>5.2</td>\n",
       "      <td>2.3</td>\n",
       "    </tr>\n",
       "    <tr>\n",
       "      <th>146</th>\n",
       "      <td>6.3</td>\n",
       "      <td>2.5</td>\n",
       "      <td>5.0</td>\n",
       "      <td>1.9</td>\n",
       "    </tr>\n",
       "    <tr>\n",
       "      <th>147</th>\n",
       "      <td>6.5</td>\n",
       "      <td>3.0</td>\n",
       "      <td>5.2</td>\n",
       "      <td>2.0</td>\n",
       "    </tr>\n",
       "    <tr>\n",
       "      <th>148</th>\n",
       "      <td>6.2</td>\n",
       "      <td>3.4</td>\n",
       "      <td>5.4</td>\n",
       "      <td>2.3</td>\n",
       "    </tr>\n",
       "    <tr>\n",
       "      <th>149</th>\n",
       "      <td>5.9</td>\n",
       "      <td>3.0</td>\n",
       "      <td>5.1</td>\n",
       "      <td>1.8</td>\n",
       "    </tr>\n",
       "  </tbody>\n",
       "</table>\n",
       "<p>150 rows × 4 columns</p>\n",
       "</div>"
      ]
     },
     "execution_count": 27,
     "metadata": {},
     "output_type": "execute_result"
    }
   ],
   "execution_count": 27
  },
  {
   "metadata": {
    "ExecuteTime": {
     "end_time": "2025-04-19T09:54:38.891230Z",
     "start_time": "2025-04-19T09:54:38.870982Z"
    }
   },
   "cell_type": "code",
   "source": "iris.target.groupby(iris.target).size()",
   "id": "5570c4500bee554d",
   "outputs": [
    {
     "data": {
      "text/plain": [
       "target\n",
       "0    50\n",
       "1    50\n",
       "2    50\n",
       "Name: target, dtype: int64"
      ]
     },
     "execution_count": 29,
     "metadata": {},
     "output_type": "execute_result"
    }
   ],
   "execution_count": 29
  },
  {
   "metadata": {
    "ExecuteTime": {
     "end_time": "2025-04-19T09:55:06.246460Z",
     "start_time": "2025-04-19T09:55:06.239757Z"
    }
   },
   "cell_type": "code",
   "source": "iris.feature_names",
   "id": "71d801a5ee2bb208",
   "outputs": [
    {
     "data": {
      "text/plain": [
       "['sepal length (cm)',\n",
       " 'sepal width (cm)',\n",
       " 'petal length (cm)',\n",
       " 'petal width (cm)']"
      ]
     },
     "execution_count": 30,
     "metadata": {},
     "output_type": "execute_result"
    }
   ],
   "execution_count": 30
  },
  {
   "metadata": {
    "ExecuteTime": {
     "end_time": "2025-04-19T09:55:13.610723Z",
     "start_time": "2025-04-19T09:55:13.601376Z"
    }
   },
   "cell_type": "code",
   "source": "iris.target_names",
   "id": "2678da9bc0cda97b",
   "outputs": [
    {
     "data": {
      "text/plain": [
       "array(['setosa', 'versicolor', 'virginica'], dtype='<U10')"
      ]
     },
     "execution_count": 31,
     "metadata": {},
     "output_type": "execute_result"
    }
   ],
   "execution_count": 31
  },
  {
   "metadata": {
    "ExecuteTime": {
     "end_time": "2025-04-19T10:03:40.698264Z",
     "start_time": "2025-04-19T10:03:40.691670Z"
    }
   },
   "cell_type": "code",
   "source": [
    "X = iris.data\n",
    "y = iris.target"
   ],
   "id": "9cc69eb1b55109c",
   "outputs": [],
   "execution_count": 32
  },
  {
   "metadata": {
    "ExecuteTime": {
     "end_time": "2025-04-19T14:07:23.749151Z",
     "start_time": "2025-04-19T14:07:23.583746Z"
    }
   },
   "cell_type": "code",
   "source": [
    "from sklearn.metrics import ConfusionMatrixDisplay\n",
    "from sklearn.preprocessing import StandardScaler\n",
    "from sklearn.model_selection import cross_val_predict, cross_val_score, StratifiedKFold\n",
    "from sklearn.linear_model import LogisticRegression\n",
    "from sklearn.pipeline import make_pipeline\n",
    "from sklearn.multiclass import OneVsRestClassifier\n",
    "from sklearn.metrics import ConfusionMatrixDisplay\n",
    "\n",
    "\n",
    "skf= StratifiedKFold(n_splits=5)\n",
    "log_reg = LogisticRegression()\n",
    "ovr = OneVsRestClassifier(log_reg)\n",
    "pipeline = make_pipeline(\n",
    "    StandardScaler(),\n",
    "    ovr\n",
    ")\n",
    "y_pred = cross_val_predict(pipeline, X, y, cv= skf)\n",
    "ConfusionMatrixDisplay.from_predictions(y, y_pred, normalize='true',\n",
    "                                      cmap='RdPu',\n",
    "                                      values_format='.2f')\n",
    "plt.show()\n"
   ],
   "id": "6117596a1a3d270b",
   "outputs": [
    {
     "data": {
      "text/plain": [
       "<Figure size 640x480 with 2 Axes>"
      ],
      "image/png": "[encoded data removed]"
     },
     "metadata": {},
     "output_type": "display_data"
    }
   ],
   "execution_count": 40
  },
  {
   "metadata": {},
   "cell_type": "code",
   "outputs": [],
   "execution_count": null,
   "source": "",
   "id": "c18286b197a5bc75"
  }
 ],
 "metadata": {
  "kernelspec": {
   "display_name": "Python 3",
   "language": "python",
   "name": "python3"
  },
  "language_info": {
   "codemirror_mode": {
    "name": "ipython",
    "version": 2
   },
   "file_extension": ".py",
   "mimetype": "text/x-python",
   "name": "python",
   "nbconvert_exporter": "python",
   "pygments_lexer": "ipython2",
   "version": "2.7.6"
  }
 },
 "nbformat": 4,
 "nbformat_minor": 5
}
